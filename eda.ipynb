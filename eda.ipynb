{
 "cells": [
  {
   "cell_type": "code",
   "execution_count": null,
   "id": "ba7e97bc",
   "metadata": {},
   "outputs": [],
   "source": [
    "import pandas as pd\n",
    "import matplotlib.pyplot as plt\n",
    "import seaborn as sns\n",
    "\n",
    "pd.set_option('display.max_columns', None)"
   ]
  },
  {
   "cell_type": "code",
   "execution_count": null,
   "id": "2c4e4f57",
   "metadata": {},
   "outputs": [],
   "source": [
    "fraud_df = pd.read_parquet('transaction_fraud_data.parquet')\n",
    "fraud_df.head(5)"
   ]
  },
  {
   "cell_type": "code",
   "execution_count": null,
   "id": "b3cf6d91",
   "metadata": {},
   "outputs": [],
   "source": [
    "# Чтобы посмотреть инфу о фрейме\n",
    "fraud_df.info()"
   ]
  },
  {
   "cell_type": "code",
   "execution_count": null,
   "id": "921cfb52",
   "metadata": {},
   "outputs": [],
   "source": [
    "# Некоторая описательная статистика по дата фрейму, которая поможет выявить выбросы и т.п. (аномальных значений не оказалось)\n",
    "fraud_df.describe()"
   ]
  },
  {
   "cell_type": "code",
   "execution_count": null,
   "id": "4a235fc2",
   "metadata": {},
   "outputs": [],
   "source": [
    "# Проверка на Nan (на удивление нет пропущенных значений)\n",
    "fraud_df.isna().sum()"
   ]
  },
  {
   "cell_type": "code",
   "execution_count": null,
   "id": "746647c4",
   "metadata": {},
   "outputs": [],
   "source": [
    "currency_df = pd.read_parquet('historical_currency_exchange.parquet')\n",
    "currency_df.head(5)"
   ]
  },
  {
   "cell_type": "code",
   "execution_count": null,
   "id": "56f6c7ae",
   "metadata": {},
   "outputs": [],
   "source": [
    "# Чтобы посмотреть инфу о фрейме\n",
    "currency_df.info()"
   ]
  },
  {
   "cell_type": "code",
   "execution_count": null,
   "id": "35415b74",
   "metadata": {},
   "outputs": [],
   "source": [
    "# Некоторая описательная статистика по дата фрейму, которая поможет выявить выбросы и т.п. (аномальных значений не оказалось)\n",
    "currency_df.describe()"
   ]
  },
  {
   "cell_type": "code",
   "execution_count": null,
   "id": "3739a564",
   "metadata": {},
   "outputs": [],
   "source": [
    "# Проверка на Nan (на удивление нет пропущенных значений)\n",
    "currency_df.isna().sum()"
   ]
  },
  {
   "cell_type": "markdown",
   "id": "16cbf89b",
   "metadata": {},
   "source": [
    "Круговая диаграмма распределения НЕ fraud транзакций по типам вендоров"
   ]
  },
  {
   "cell_type": "code",
   "execution_count": null,
   "id": "e844f421",
   "metadata": {},
   "outputs": [],
   "source": [
    "# Подсчет количества транзакций по каждой категории вендоров\n",
    "vendor_category_counts = fraud_df['vendor_category'][fraud_df.is_fraud==False].value_counts()\n",
    "\n",
    "# Создание круговой диаграммы\n",
    "def plot_pie_chart(df: pd.DataFrame, title: str):\n",
    "    plt.figure(figsize=(10, 8))\n",
    "\n",
    "    # Построение диаграммы с улучшенным стилем\n",
    "    colors = plt.cm.Set3(range(len(df)))\n",
    "    wedges, texts, autotexts = plt.pie(\n",
    "        df.values, \n",
    "        labels=df.index,\n",
    "        autopct='%1.1f%%',\n",
    "        startangle=90,\n",
    "        colors=colors,\n",
    "        explode=[0.05] * len(df)  # Небольшой отступ для всех сегментов\n",
    "    )\n",
    "\n",
    "    # Настройка стиля текста\n",
    "    for autotext in autotexts:\n",
    "        autotext.set_color('white')\n",
    "        autotext.set_fontweight('bold')\n",
    "\n",
    "    plt.title(title, fontsize=16, pad=20)\n",
    "    plt.axis('equal')  # Равные пропорции\n",
    "    plt.show()\n",
    "\n",
    "# Вывод числовых данных\n",
    "def print_numeric_data(df: pd.DataFrame):\n",
    "    print(\"Распределение по категориям вендоров:\")\n",
    "    print(df)\n",
    "    print(\"\\nПроцентное соотношение:\")\n",
    "    print((df / df.sum() * 100).round(2))\n",
    "\n",
    "\n",
    "plot_pie_chart(vendor_category_counts, 'Распределение НЕ fraud транзакций по категориям вендоров')\n",
    "print_numeric_data(vendor_category_counts)"
   ]
  },
  {
   "cell_type": "markdown",
   "id": "3cc179aa",
   "metadata": {},
   "source": [
    "Круговая диаграмма распределения fraud транзакций по типам вендоров"
   ]
  },
  {
   "cell_type": "code",
   "execution_count": null,
   "id": "50e8ff1d",
   "metadata": {},
   "outputs": [],
   "source": [
    "# Подсчет количества транзакций по каждой категории вендоров\n",
    "vendor_category_counts_fraud = fraud_df['vendor_category'][fraud_df.is_fraud==True].value_counts()\n",
    "\n",
    "plot_pie_chart(vendor_category_counts_fraud, 'Распределение fraud транзакций по категориям вендоров')\n",
    "print_numeric_data(vendor_category_counts_fraud)"
   ]
  },
  {
   "cell_type": "markdown",
   "id": "63306bd7",
   "metadata": {},
   "source": [
    "Судя по круговым диаграммам, довольно симметричный датасет попался в процентном соотношениии"
   ]
  },
  {
   "cell_type": "markdown",
   "id": "792243a7",
   "metadata": {},
   "source": [
    "Гипотеза: Одно и то же device_fingerprint используется для множества транзакций разных клиентов\n",
    "\n",
    "Ценность: Выявление подозрительных устройств и блокировка\n",
    "\n",
    "В результате можно увидеть, что некоторые устройства используются разными людьми, что вызывает подозрения."
   ]
  },
  {
   "cell_type": "code",
   "execution_count": null,
   "id": "cdff8835",
   "metadata": {},
   "outputs": [],
   "source": [
    "# Считаем, сколько уникальных customer_id приходится на каждый device_fingerprint\n",
    "device_risk = fraud_df.groupby('device_fingerprint').agg(\n",
    "    num_customers=('customer_id', 'nunique'),\n",
    "    num_transactions=('transaction_id', 'count'),\n",
    "    fraud_count=('is_fraud', 'sum')\n",
    ").reset_index()\n",
    "\n",
    "# Добавим долю мошенничества\n",
    "device_risk['fraud_rate'] = device_risk['fraud_count'] / device_risk['num_transactions']\n",
    "\n",
    "# Отфильтруем устройства с более чем 1 клиентом\n",
    "suspicious_devices = device_risk[device_risk['num_customers'] > 1]\n",
    "\n",
    "# Посмотрим на топ-10 подозрительных устройств\n",
    "suspicious_devices.sort_values(by='num_customers', ascending=False).head(10)"
   ]
  },
  {
   "cell_type": "markdown",
   "id": "573e9849",
   "metadata": {},
   "source": [
    "Гипотеза: Один и тот же IP используется для множества транзакций разных клиентов\n",
    "\n",
    "Ценность: Создание черных списков IP или усиление проверок при повторном использовании\n",
    "\n",
    "Получились довольно спорные результаты, по которым нельзя быть точно уверенным в том, чтобы занести определнные ip в черный список"
   ]
  },
  {
   "cell_type": "code",
   "execution_count": null,
   "id": "4032fad4",
   "metadata": {},
   "outputs": [],
   "source": [
    "# Считаем, сколько уникальных customer_id приходится на каждый IP\n",
    "ip_risk = fraud_df.groupby('ip_address').agg(\n",
    "    num_customers=('customer_id', 'nunique'),\n",
    "    num_transactions=('transaction_id', 'count'),\n",
    "    fraud_count=('is_fraud', 'sum')\n",
    ").reset_index()\n",
    "\n",
    "# Добавим долю мошенничества\n",
    "ip_risk['fraud_rate'] = ip_risk['fraud_count'] / ip_risk['num_transactions']\n",
    "\n",
    "# Отфильтруем IP с более чем 1 клиентом\n",
    "suspicious_ips = ip_risk[ip_risk['num_customers'] > 1]\n",
    "\n",
    "# Посмотрим на топ-10 подозрительных IP\n",
    "suspicious_ips.sort_values(by='num_customers', ascending=False).head(10)"
   ]
  },
  {
   "cell_type": "markdown",
   "id": "c2fc9c65",
   "metadata": {},
   "source": [
    "Гипотеза: Несколько транзакций с одной и той же card_number могут указывать на мошенничество\n",
    "\n",
    "Ценность: Предотвращение использования одной карты несколькими клиентами\n",
    "\n",
    "В результате не было обнаружено карт, с которых совершали сделки хотя бы два униикальных клиента"
   ]
  },
  {
   "cell_type": "code",
   "execution_count": null,
   "id": "501a5321",
   "metadata": {},
   "outputs": [],
   "source": [
    "# Считаем, сколько уникальных customer_id приходится на каждый card_number\n",
    "card_risk = fraud_df.groupby('card_number').agg(\n",
    "    num_customers=('customer_id', 'nunique'),\n",
    "    num_transactions=('transaction_id', 'count'),\n",
    "    fraud_count=('is_fraud', 'sum')\n",
    ").reset_index()\n",
    "\n",
    "# Добавим долю мошенничества\n",
    "card_risk['fraud_rate'] = card_risk['fraud_count'] / card_risk['num_transactions']\n",
    "\n",
    "# Отфильтруем карты с более чем 1 клиентом\n",
    "suspicious_cards = card_risk[card_risk['num_customers'] > 1]\n",
    "\n",
    "# Посмотрим на топ-10 подозрительных карт\n",
    "suspicious_cards.sort_values(by='num_customers', ascending=False).head(10)"
   ]
  },
  {
   "cell_type": "markdown",
   "id": "9f75fcf0",
   "metadata": {},
   "source": [
    "Гипотеза: Транзакции вне страны клиента имеют значительно более высокий уровень мошенничества\n",
    "\n",
    "Ценность: Возможность ввести усиленную аутентификацию для таких операций\n",
    "\n",
    "В выводе даже без проведения корелляционных тестов видно, что большинство мошеннических операций совершается вне страны клинента"
   ]
  },
  {
   "cell_type": "code",
   "execution_count": null,
   "id": "e6cec587",
   "metadata": {},
   "outputs": [],
   "source": [
    "# Группируем данные по признаку \"транзакция вне страны клиента\"\n",
    "fraud_by_location = fraud_df.groupby('is_outside_home_country').agg(\n",
    "    total_transactions=('transaction_id', 'count'),\n",
    "    fraud_count=('is_fraud', 'sum')\n",
    ").reset_index()\n",
    "\n",
    "# Добавляем долю мошенничества\n",
    "fraud_by_location['fraud_rate'] = fraud_by_location['fraud_count'] / fraud_by_location['total_transactions']\n",
    "\n",
    "print(fraud_by_location)"
   ]
  },
  {
   "cell_type": "code",
   "execution_count": null,
   "id": "560aa9ad",
   "metadata": {},
   "outputs": [],
   "source": [
    "# Подготовим данные для графика\n",
    "plot_data = fraud_by_location.copy()\n",
    "plot_data['is_outside_home_country'] = plot_data['is_outside_home_country'].map({True: 'Да', False: 'Нет'})\n",
    "\n",
    "# Доля мошенничества\n",
    "plt.figure(figsize=(4, 3))\n",
    "sns.barplot(data=plot_data, x='is_outside_home_country', y='fraud_rate', hue='is_outside_home_country')\n",
    "plt.title('Доля мошеннических транзакций в зависимости от местоположения')\n",
    "plt.xlabel('Транзакция вне страны клиента')\n",
    "plt.ylabel('Доля мошенничества')\n",
    "plt.ylim(0, 0.1)  # Ограничиваем для наглядности\n",
    "plt.grid(axis='y')\n",
    "plt.show()"
   ]
  },
  {
   "cell_type": "markdown",
   "id": "5bec6a88",
   "metadata": {},
   "source": [
    "Гипотеза: Премиальные карты (Gold Credit и т.п.) менее подвержены мошенничеству\n",
    "\n",
    "Ценность: Сегментация клиентов по уровню риска и предложение персонализированных продуктов"
   ]
  },
  {
   "cell_type": "code",
   "execution_count": null,
   "id": "86879d8d",
   "metadata": {},
   "outputs": [],
   "source": [
    "# Группируем данные по типу карты\n",
    "fraud_by_card_type = fraud_df.groupby('card_type').agg(\n",
    "    total_transactions=('transaction_id', 'count'),\n",
    "    fraud_count=('is_fraud', 'sum')\n",
    ").reset_index()\n",
    "\n",
    "# Добавляем долю мошенничества\n",
    "fraud_by_card_type['fraud_rate'] = fraud_by_card_type['fraud_count'] / fraud_by_card_type['total_transactions']\n",
    "\n",
    "# Сортируем по убыванию уровня мошенничества для наглядности\n",
    "fraud_by_card_type = fraud_by_card_type.sort_values('fraud_rate', ascending=False)\n",
    "\n",
    "print(fraud_by_card_type)"
   ]
  },
  {
   "cell_type": "markdown",
   "id": "b031c0cc",
   "metadata": {},
   "source": [
    "Как видно из вывода выше, доля мошеннических операций распределена по типам карт одинаково. Можно дополнительно проверить с помощью статистики."
   ]
  },
  {
   "cell_type": "code",
   "execution_count": null,
   "id": "e13b31de",
   "metadata": {},
   "outputs": [],
   "source": [
    "from scipy.stats import chi2_contingency\n",
    "\n",
    "# Создаем таблицу сопряженности\n",
    "contingency_table = pd.crosstab(fraud_df['card_type'], fraud_df['is_fraud'])\n",
    "\n",
    "# Хи-квадрат тест\n",
    "alpha = 0.05\n",
    "chi2, p_value, dof, expected = chi2_contingency(contingency_table)\n",
    "\n",
    "if p_value > alpha:\n",
    "    print(f\"Корреляция card_type и is_fraud == 0\")\n",
    "else:\n",
    "    print(f\"Корреляция card_type и is_fraud != 0\")"
   ]
  },
  {
   "cell_type": "markdown",
   "id": "af3c2cbe",
   "metadata": {},
   "source": [
    "“Страна клиента vs. страна транзакции” — heatmap подозрительных перемещений, который помогает выявить пары стран, где часто происходит fraud. В результате можно усилить контроль за операциями в странах из которых происходит fraud"
   ]
  },
  {
   "cell_type": "code",
   "execution_count": null,
   "id": "65721945",
   "metadata": {},
   "outputs": [],
   "source": [
    "# Оставляем только мошеннические транзакции\n",
    "fraud_only = fraud_df[fraud_df[\"is_fraud\"] == True].copy()\n",
    "\n",
    "# Определяем \"домашнюю страну\" клиента как наиболее частую страну его транзакций\n",
    "home_country = (\n",
    "    fraud_df.groupby(\"customer_id\")[\"country\"]\n",
    "            .agg(lambda x: x.value_counts().index[0])\n",
    "            .reset_index()\n",
    "            .rename(columns={\"country\": \"home_country\"})\n",
    ")\n",
    "\n",
    "# Добавляем домашнюю страну в fraud-транзакции\n",
    "fraud_only = fraud_only.merge(home_country, on=\"customer_id\", how=\"left\")\n",
    "\n",
    "# Группировка: домашняя страна vs. фактическая страна транзакции\n",
    "pivot = (\n",
    "    fraud_only.groupby([\"home_country\", \"country\"])\n",
    "              .size()\n",
    "              .reset_index(name=\"fraud_count\")\n",
    ")\n",
    "\n",
    "# Превращаем в матрицу для heatmap\n",
    "matrix = pivot.pivot(index=\"home_country\", columns=\"country\", values=\"fraud_count\").fillna(0)\n",
    "\n",
    "# Визуализация\n",
    "plt.figure(figsize=(14,8))\n",
    "sns.heatmap(matrix, cmap=\"Reds\", linewidths=0.5)\n",
    "plt.title(\"Heatmap: Home Country vs. Transaction Country (FRAUD only)\", fontsize=14)\n",
    "plt.xlabel(\"Страна транзакции\")\n",
    "plt.ylabel(\"Домашняя страна клиента\")\n",
    "plt.show()"
   ]
  }
 ],
 "metadata": {
  "kernelspec": {
   "display_name": "Python 3",
   "language": "python",
   "name": "python3"
  },
  "language_info": {
   "codemirror_mode": {
    "name": "ipython",
    "version": 3
   },
   "file_extension": ".py",
   "mimetype": "text/x-python",
   "name": "python",
   "nbconvert_exporter": "python",
   "pygments_lexer": "ipython3",
   "version": "3.13.2"
  }
 },
 "nbformat": 4,
 "nbformat_minor": 5
}
